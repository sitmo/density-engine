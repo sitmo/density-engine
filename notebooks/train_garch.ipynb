{
 "cells": [
  {
   "cell_type": "markdown",
   "id": "1292db81",
   "metadata": {},
   "source": [
    "# GARCH Density Training Notebook\n",
    "\n",
    "This notebook trains a GMM MDN on the GARCH CDF densities dataset from Hugging Face."
   ]
  },
  {
   "cell_type": "code",
   "execution_count": 1,
   "id": "b0e87358",
   "metadata": {},
   "outputs": [
    {
     "name": "stderr",
     "output_type": "stream",
     "text": [
      "/Users/thijs/Library/Caches/pypoetry/virtualenvs/density-engine-GEC8AyR8-py3.11/lib/python3.11/site-packages/tqdm/auto.py:21: TqdmWarning: IProgress not found. Please update jupyter and ipywidgets. See https://ipywidgets.readthedocs.io/en/stable/user_install.html\n",
      "  from .autonotebook import tqdm as notebook_tqdm\n"
     ]
    },
    {
     "name": "stdout",
     "output_type": "stream",
     "text": [
      "DatasetDict({\n",
      "    train: Dataset({\n",
      "        features: ['alpha', 'gamma', 'beta', 'var0', 'eta', 'lam', 'ti', 'p', 'x'],\n",
      "        num_rows: 7544274\n",
      "    })\n",
      "    test: Dataset({\n",
      "        features: ['alpha', 'gamma', 'beta', 'var0', 'eta', 'lam', 'ti', 'p', 'x'],\n",
      "        num_rows: 1940171\n",
      "    })\n",
      "    sample: Dataset({\n",
      "        features: ['alpha', 'gamma', 'beta', 'var0', 'eta', 'lam', 'ti', 'p', 'x'],\n",
      "        num_rows: 1000\n",
      "    })\n",
      "})\n",
      "Train size: 7544274 | Test size: 1940171\n",
      "Features: {'alpha': Value('float32'), 'gamma': Value('float32'), 'beta': Value('float32'), 'var0': Value('float32'), 'eta': Value('float32'), 'lam': Value('float32'), 'ti': Value('float32'), 'p': Value('float32'), 'x': List(Value('float32'))}\n"
     ]
    }
   ],
   "source": [
    "from datasets import load_dataset\n",
    "\n",
    "\n",
    "ds = load_dataset(\"sitmo/garch_densities\", token=False)\n",
    "print(ds) \n",
    "\n",
    "train = ds[\"train\"]\n",
    "test = ds[\"test\"]\n",
    "\n",
    "print(f\"Train size: {len(train)} | Test size: {len(test)}\")\n",
    "print(f\"Features: {train.features}\")"
   ]
  },
  {
   "cell_type": "code",
   "execution_count": null,
   "id": "654167d4",
   "metadata": {},
   "outputs": [],
   "source": [
    "import torch\n",
    "from torch.utils.data import DataLoader\n",
    "\n",
    "param_cols = [\"alpha\",\"gamma\",\"beta\",\"var0\",\"eta\",\"lam\",\"ti\"]\n",
    "cols = param_cols + [\"x\"]\n",
    "train = train.with_format(\"torch\", columns=cols)\n",
    "\n",
    "loader = DataLoader(train, batch_size=256, shuffle=True, num_workers=4, pin_memory=torch.cuda.is_available())\n",
    "batch = next(iter(loader))\n",
    "\n",
    "params  = torch.stack([batch[c] for c in param_cols], dim=1)  # [B,7]\n",
    "targets = batch[\"x\"]                                          # [B,512]\n",
    "print(params.shape, targets.shape)\n"
   ]
  },
  {
   "cell_type": "code",
   "execution_count": 6,
   "id": "f4fa896c",
   "metadata": {},
   "outputs": [
    {
     "data": {
      "image/png": "[encoded data removed]",
      "text/plain": [
       "<Figure size 640x480 with 1 Axes>"
      ]
     },
     "metadata": {},
     "output_type": "display_data"
    }
   ],
   "source": [
    "import matplotlib.pyplot as plt\n",
    "import numpy as np\n",
    "y = np.linspace(0.001, 0.999, 512)\n",
    "for i in range(5):\n",
    "    plt.plot(targets[i, :], y)\n",
    "plt.show()"
   ]
  },
  {
   "cell_type": "code",
   "execution_count": 5,
   "id": "ac0f7467",
   "metadata": {},
   "outputs": [],
   "source": [
    "import numpy as np\n",
    "import torch\n",
    "from datasets import load_dataset\n",
    "from torch.utils.data import DataLoader\n",
    "\n",
    "PARAM_COLS = [\"alpha\",\"gamma\",\"beta\",\"var0\",\"eta\",\"lam\",\"ti\"]\n",
    "ALL_COLS   = PARAM_COLS + [\"x\"]\n",
    "\n",
    "def log_ti_transform(ex):\n",
    "    ex[\"ti\"] = np.log(ex[\"ti\"])\n",
    "    return ex\n",
    "\n",
    "def make_loader(ds, split, batch_size=512, workers=0):  # macOS: workers=0; Linux: try 4–8\n",
    "    d = ds[split].with_transform(log_ti_transform).with_format(\"numpy\", columns=ALL_COLS)\n",
    "\n",
    "    def collate(batch):\n",
    "        b = {k: np.stack([ex[k] for ex in batch]) for k in ALL_COLS}\n",
    "        params  = torch.from_numpy(np.stack([b[c] for c in PARAM_COLS], axis=1))\n",
    "        targets = torch.from_numpy(b[\"x\"])\n",
    "        return params.float(), targets.float()\n",
    "\n",
    "    pin = torch.cuda.is_available()\n",
    "    return DataLoader(\n",
    "        d, batch_size=batch_size, shuffle=(split==\"train\"),\n",
    "        num_workers=workers, pin_memory=pin,\n",
    "        persistent_workers=bool(workers),\n",
    "        prefetch_factor=(2 if workers else None),\n",
    "        collate_fn=collate\n",
    "    )\n",
    "\n",
    "# ---- setup ----\n",
    "ds = load_dataset(\"sitmo/garch_densities\", token=False)\n",
    "train_loader = make_loader(ds, \"train\", batch_size=2048, workers=0)  # bump batch_size if RAM allows\n",
    "test_loader  = make_loader(ds, \"test\",  batch_size=2048, workers=0)\n",
    "\n",
    "device = torch.device(\"cuda\" if torch.cuda.is_available() else \"cpu\")\n",
    "non_block = device.type == \"cuda\"\n",
    "\n",
    "def to_device(params, x):\n",
    "    return params.to(device, non_blocking=non_block), x.to(device, non_blocking=non_block)\n",
    "\n",
    "# ---- warmup / benchmark (don’t recreate iterators each step) ----\n",
    "train_it = iter(train_loader)\n",
    "test_it  = iter(test_loader)\n",
    "\n",
    "for _ in range(30):\n",
    "    try:\n",
    "        p_tr, x_tr = next(train_it)\n",
    "    except StopIteration:\n",
    "        train_it = iter(train_loader); p_tr, x_tr = next(train_it)\n",
    "    try:\n",
    "        p_te, x_te = next(test_it)\n",
    "    except StopIteration:\n",
    "        test_it = iter(test_loader); p_te, x_te = next(test_it)\n",
    "\n",
    "    p_tr, x_tr = to_device(p_tr, x_tr)\n",
    "    p_te, x_te = to_device(p_te, x_te)\n",
    "    # print(p_tr.shape, x_tr.shape, \"|\", p_te.shape, x_te.shape)\n"
   ]
  },
  {
   "cell_type": "code",
   "execution_count": 6,
   "id": "0289a6e0",
   "metadata": {},
   "outputs": [
    {
     "name": "stdout",
     "output_type": "stream",
     "text": [
      "torch.Size([2048, 7]) torch.Size([2048, 512]) | torch.Size([2048, 7]) torch.Size([2048, 512])\n",
      "torch.Size([2048, 7]) torch.Size([2048, 512]) | torch.Size([2048, 7]) torch.Size([2048, 512])\n",
      "torch.Size([2048, 7]) torch.Size([2048, 512]) | torch.Size([2048, 7]) torch.Size([2048, 512])\n",
      "torch.Size([2048, 7]) torch.Size([2048, 512]) | torch.Size([2048, 7]) torch.Size([2048, 512])\n",
      "torch.Size([2048, 7]) torch.Size([2048, 512]) | torch.Size([2048, 7]) torch.Size([2048, 512])\n",
      "torch.Size([2048, 7]) torch.Size([2048, 512]) | torch.Size([2048, 7]) torch.Size([2048, 512])\n",
      "torch.Size([2048, 7]) torch.Size([2048, 512]) | torch.Size([2048, 7]) torch.Size([2048, 512])\n",
      "torch.Size([2048, 7]) torch.Size([2048, 512]) | torch.Size([2048, 7]) torch.Size([2048, 512])\n",
      "torch.Size([2048, 7]) torch.Size([2048, 512]) | torch.Size([2048, 7]) torch.Size([2048, 512])\n",
      "torch.Size([2048, 7]) torch.Size([2048, 512]) | torch.Size([2048, 7]) torch.Size([2048, 512])\n",
      "torch.Size([2048, 7]) torch.Size([2048, 512]) | torch.Size([2048, 7]) torch.Size([2048, 512])\n",
      "torch.Size([2048, 7]) torch.Size([2048, 512]) | torch.Size([2048, 7]) torch.Size([2048, 512])\n",
      "torch.Size([2048, 7]) torch.Size([2048, 512]) | torch.Size([2048, 7]) torch.Size([2048, 512])\n",
      "torch.Size([2048, 7]) torch.Size([2048, 512]) | torch.Size([2048, 7]) torch.Size([2048, 512])\n",
      "torch.Size([2048, 7]) torch.Size([2048, 512]) | torch.Size([2048, 7]) torch.Size([2048, 512])\n",
      "torch.Size([2048, 7]) torch.Size([2048, 512]) | torch.Size([2048, 7]) torch.Size([2048, 512])\n",
      "torch.Size([2048, 7]) torch.Size([2048, 512]) | torch.Size([2048, 7]) torch.Size([2048, 512])\n",
      "torch.Size([2048, 7]) torch.Size([2048, 512]) | torch.Size([2048, 7]) torch.Size([2048, 512])\n",
      "torch.Size([2048, 7]) torch.Size([2048, 512]) | torch.Size([2048, 7]) torch.Size([2048, 512])\n",
      "torch.Size([2048, 7]) torch.Size([2048, 512]) | torch.Size([2048, 7]) torch.Size([2048, 512])\n",
      "torch.Size([2048, 7]) torch.Size([2048, 512]) | torch.Size([2048, 7]) torch.Size([2048, 512])\n",
      "torch.Size([2048, 7]) torch.Size([2048, 512]) | torch.Size([2048, 7]) torch.Size([2048, 512])\n",
      "torch.Size([2048, 7]) torch.Size([2048, 512]) | torch.Size([2048, 7]) torch.Size([2048, 512])\n",
      "torch.Size([2048, 7]) torch.Size([2048, 512]) | torch.Size([2048, 7]) torch.Size([2048, 512])\n",
      "torch.Size([2048, 7]) torch.Size([2048, 512]) | torch.Size([2048, 7]) torch.Size([2048, 512])\n",
      "torch.Size([2048, 7]) torch.Size([2048, 512]) | torch.Size([2048, 7]) torch.Size([2048, 512])\n",
      "torch.Size([2048, 7]) torch.Size([2048, 512]) | torch.Size([2048, 7]) torch.Size([2048, 512])\n",
      "torch.Size([2048, 7]) torch.Size([2048, 512]) | torch.Size([2048, 7]) torch.Size([2048, 512])\n",
      "torch.Size([2048, 7]) torch.Size([2048, 512]) | torch.Size([2048, 7]) torch.Size([2048, 512])\n",
      "torch.Size([2048, 7]) torch.Size([2048, 512]) | torch.Size([2048, 7]) torch.Size([2048, 512])\n"
     ]
    }
   ],
   "source": [
    "for _ in range(30):\n",
    "    try:\n",
    "        p_tr, x_tr = next(train_it)\n",
    "    except StopIteration:\n",
    "        train_it = iter(train_loader); p_tr, x_tr = next(train_it)\n",
    "    try:\n",
    "        p_te, x_te = next(test_it)\n",
    "    except StopIteration:\n",
    "        test_it = iter(test_loader); p_te, x_te = next(test_it)\n",
    "\n",
    "    p_tr, x_tr = to_device(p_tr, x_tr)\n",
    "    p_te, x_te = to_device(p_te, x_te)\n",
    "    print(p_tr.shape, x_tr.shape, \"|\", p_te.shape, x_te.shape)"
   ]
  },
  {
   "cell_type": "code",
   "execution_count": null,
   "id": "b4711a80",
   "metadata": {},
   "outputs": [],
   "source": []
  }
 ],
 "metadata": {
  "kernelspec": {
   "display_name": "density-engine-GEC8AyR8-py3.11",
   "language": "python",
   "name": "python3"
  },
  "language_info": {
   "codemirror_mode": {
    "name": "ipython",
    "version": 3
   },
   "file_extension": ".py",
   "mimetype": "text/x-python",
   "name": "python",
   "nbconvert_exporter": "python",
   "pygments_lexer": "ipython3",
   "version": "3.11.8"
  }
 },
 "nbformat": 4,
 "nbformat_minor": 5
}
